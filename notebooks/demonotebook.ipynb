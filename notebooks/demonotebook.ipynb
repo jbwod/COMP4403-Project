{
 "cells": [
  {
   "cell_type": "markdown",
   "id": "7dc611ea",
   "metadata": {},
   "source": [
    "# CITS4403 - P2P Modelling\n",
    "\n",
    "This notebook demonstrates a complex P2P model using agent gossip protocols (GNUTELLA-like) and graph-theory.\n",
    "\n",
    "## Steps to Run\n",
    "1. Run the first Cell and generate a Graph to use for the current runtime.\n",
    "2. Run the Initiate Cell to propogate file-pieces.\n",
    "3. Run the Simulate Cell to decide on the type of Simulation, Scenario and other Agent factors."
   ]
  },
  {
   "cell_type": "code",
   "execution_count": null,
   "id": "850984a0",
   "metadata": {},
   "outputs": [],
   "source": [
    "import sys, os, pathlib\n",
    "project_root = pathlib.Path.cwd().parent\n",
    "sys.path.insert(0, str(project_root))\n",
    "\n",
    "from src.graph import nxgraph\n",
    "import src.agent as agent\n",
    "from utils.plotter import draw_graph, draw_gossip_step_by_step, start_new_run, create_round_gif\n",
    "#from utils.simulator_old import get_network_stats, reset_simulation\n",
    "from utils.simulator_new import simulate_round_agent_driven, get_network_stats, reset_simulation\n",
    "from widgets.graph_widget import display_graph_widgets, get_graph, is_graph_generated\n",
    "from widgets.init_widget import display_init_widgets, set_graph_data\n",
    "from widgets.scenario_widget import display_scenario_widgets\n",
    "from widgets.simulation_widget import display_simulation_widgets\n",
    "\n",
    "import ipywidgets as widgets\n",
    "from IPython.display import display, clear_output\n",
    "\n",
    "display_graph_widgets()"
   ]
  },
  {
   "cell_type": "code",
   "execution_count": null,
   "id": "3781b2e0",
   "metadata": {},
   "outputs": [],
   "source": [
    "########################################################\n",
    "# MAIN CONTROLLER\n",
    "########################################################\n",
    "if not is_graph_generated(): raise RuntimeError(\"Graph must be generated before proceeding. Run the first cell and click 'Generate Graph' to create a network.\")\n",
    "G, FILE_PIECES = get_graph()\n",
    "set_graph_data(G.graph, FILE_PIECES)\n",
    "\n",
    "print(f\"Using graph with {G.graph.number_of_nodes()} nodes and {G.graph.number_of_edges()} edges\")\n",
    "\n",
    "# Display initialization widgets\n",
    "display_init_widgets()\n",
    "# display_scenario_widgets()\n",
    "display_simulation_widgets()\n"
   ]
  },
  {
   "cell_type": "code",
   "execution_count": null,
   "id": "bad101ed",
   "metadata": {},
   "outputs": [],
   "source": [
    "print(f\"\\nFinal graph visualization:\")\n",
    "gifs = create_round_gif(duration=300)\n",
    "draw_graph(G.graph, total_pieces=FILE_PIECES)"
   ]
  }
 ],
 "metadata": {
  "kernelspec": {
   "display_name": "Python 3",
   "language": "python",
   "name": "python3"
  },
  "language_info": {
   "codemirror_mode": {
    "name": "ipython",
    "version": 3
   },
   "file_extension": ".py",
   "mimetype": "text/x-python",
   "name": "python",
   "nbconvert_exporter": "python",
   "pygments_lexer": "ipython3",
   "version": "3.9.6"
  }
 },
 "nbformat": 4,
 "nbformat_minor": 5
}
