{
 "cells": [
  {
   "cell_type": "code",
   "execution_count": null,
   "id": "850984a0",
   "metadata": {},
   "outputs": [],
   "source": [
    "import sys, os, pathlib\n",
    "project_root = pathlib.Path.cwd().parent\n",
    "sys.path.insert(0, str(project_root))\n",
    "\n",
    "from src.graph import erdos_renyi_graph\n",
    "import src.agent as agent_module\n",
    "from utils.plotter import draw_graph, draw_graph_with_transfers\n",
    "from utils.simulator import simulate_round, get_network_stats\n",
    "\n",
    "# Create and setup the graph\n",
    "G = erdos_renyi_graph(n=20, p=0.1)\n",
    "agent_module.assign_n_seeders(G, n=1, seed=42)\n",
    "FILE_PIECES = 20\n",
    "print(\"Initial graph setup:\")\n",
    "print(f\"Graph has {G.number_of_nodes()} nodes and {G.number_of_edges()} edges\")\n",
    "draw_graph(G, FILE_PIECES)\n"
   ]
  },
  {
   "cell_type": "code",
   "execution_count": null,
   "id": "3781b2e0",
   "metadata": {},
   "outputs": [],
   "source": [
    "# Init\n",
    "agent_module.initialize_file_sharing(G, FILE_PIECES, seed=42)\n",
    "\n",
    "print(str(FILE_PIECES) + \" pieces\")\n",
    "for node in G.nodes():\n",
    "    info = agent_module.get_agent_info(G, node)\n",
    "    print(f\"Node {node}: {info['role']} - {info['num_pieces']}/ {FILE_PIECES} pieces - Complete: {info['is_complete']}\")\n",
    "\n",
    "print(f\"\\nTotal pieces in network at the moment: {sum(len(G.nodes[node].get('file_pieces', set())) for node in G.nodes())}\")\n"
   ]
  },
  {
   "cell_type": "code",
   "execution_count": null,
   "id": "bad101ed",
   "metadata": {},
   "outputs": [],
   "source": [
    "stats = get_network_stats(G, FILE_PIECES)\n",
    "print(f\"Initial: {stats['incomplete_leechers']} leechers incomplete, {stats['completion_rate']:.1%} completion rate\")\n",
    "\n",
    "# Run one round of simulation\n",
    "for round_num in range(1, 40):\n",
    "    print(f\"\\n Round {round_num}\")\n",
    "    result = simulate_round(G, FILE_PIECES, seed=42+round_num)\n",
    "    \n",
    "    print(f\"Transfers: {result['total_transfers']}\")\n",
    "    if result['new_completions']:\n",
    "        print(f\"New completions: {result['new_completions']}\")\n",
    "    \n",
    "    stats = get_network_stats(G, FILE_PIECES)\n",
    "    print(f\"Progress: {stats['incomplete_leechers']} leechers incomplete, {stats['completion_rate']:.1%} completion rate\")\n",
    "    \n",
    "    # Show some transfer details\n",
    "    if result['transfers']:\n",
    "        print(\"transfers:\")\n",
    "        for transfer in result['transfers']:  # Show first handful\n",
    "            print(f\"  Piece {transfer['piece']}: {transfer['from']} to >> {transfer['to']}\")\n",
    "            # save_images=True\n",
    "    draw_graph_with_transfers(G, FILE_PIECES, result['transfers'], round_num, save_images=True)\n",
    "print(f\"\\nFinal network state:\")\n",
    "for node in G.nodes():\n",
    "    info = agent_module.get_agent_info(G, node)\n",
    "    print(f\"Node {node}: {info['role']} - {info['num_pieces']}/20 pieces - Complete: {info['is_complete']}\")\n",
    "\n",
    "final_stats = get_network_stats(G, FILE_PIECES)\n",
    "\n",
    "print(f\"\\nFinal network statistics:\")\n",
    "print(f\"Total nodes: {final_stats['total_nodes']}\")\n",
    "print(f\"Total edges: {final_stats['total_edges']}\")\n",
    "print(f\"Seeders: {final_stats['seeders']}\")\n",
    "print(f\"Leechers: {final_stats['leechers']}\")\n",
    "print(f\"Complete leechers: {final_stats['complete_leechers']}\")\n",
    "print(f\"Incomplete leechers: {final_stats['incomplete_leechers']}\")\n",
    "print(f\"Completion rate: {final_stats['completion_rate']:.1%}\")\n",
    "print(f\"Total pieces in network: {final_stats['total_pieces_in_network']}\")\n",
    "\n",
    "# Draw the final graph\n",
    "print(f\"\\nFinal graph visualization:\")\n",
    "draw_graph(G, FILE_PIECES)"
   ]
  }
 ],
 "metadata": {
  "kernelspec": {
   "display_name": "Python 3",
   "language": "python",
   "name": "python3"
  },
  "language_info": {
   "codemirror_mode": {
    "name": "ipython",
    "version": 3
   },
   "file_extension": ".py",
   "mimetype": "text/x-python",
   "name": "python",
   "nbconvert_exporter": "python",
   "pygments_lexer": "ipython3",
   "version": "3.9.6"
  }
 },
 "nbformat": 4,
 "nbformat_minor": 5
}
